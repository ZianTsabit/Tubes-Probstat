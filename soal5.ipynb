{
 "cells": [
  {
   "cell_type": "markdown",
   "id": "c556514b",
   "metadata": {},
   "source": [
    "# Tugas Besar IF2220 Probabilitas dan Statistika: Penarikan Kesimpulan dan Pengujian Hipotesis"
   ]
  },
  {
   "cell_type": "markdown",
   "id": "d9494712",
   "metadata": {},
   "source": [
    "## Nomor 5\n",
    "\n",
    "Melakukan test hipotesis 2 sampel, dengan menuliskan 6 langkah testing dan menampilkan juga boxplotnya untuk kolom/bagian yang bersesuaian.\n",
    "\n",
    " 1. Data kolom Sulfate dibagi 2 sama rata: bagian awal dan bagian akhir kolom. Benarkah rata-rata kedua bagian tersebut sama?\n",
    " 2. Data kolom OrganicCarbon dibagi 2 sama rata: bagian awal dan bagian akhir kolom. Benarkah rata-rata bagian awal lebih besar dari pada bagian akhir sebesar 0.15?\n",
    " 3. Rata-rata 100 baris pertama kolom Chloramines sama dengan 100 baris terakhirnya?\n",
    " 4. Proporsi nilai bagian awal Turbidity yang lebih dari 4, adalah lebih besar daripada, proporsi nilai yang sama di bagian akhir Turbidity ?\n",
    " 5. Bagian awal kolom Sulfate memiliki variansi yang sama dengan bagian akhirnya?"
   ]
  },
  {
   "cell_type": "markdown",
   "id": "970ebf30",
   "metadata": {},
   "source": [
    "### Persiapan Data"
   ]
  },
  {
   "cell_type": "code",
   "execution_count": 1,
   "id": "4013c891",
   "metadata": {},
   "outputs": [],
   "source": [
    "import pandas as pd\n",
    "import matplotlib.pyplot as plt\n",
    "from scipy.stats import norm, f"
   ]
  },
  {
   "cell_type": "code",
   "execution_count": 2,
   "id": "7222ac7c",
   "metadata": {},
   "outputs": [
    {
     "data": {
      "text/html": [
       "<div>\n",
       "<style scoped>\n",
       "    .dataframe tbody tr th:only-of-type {\n",
       "        vertical-align: middle;\n",
       "    }\n",
       "\n",
       "    .dataframe tbody tr th {\n",
       "        vertical-align: top;\n",
       "    }\n",
       "\n",
       "    .dataframe thead th {\n",
       "        text-align: right;\n",
       "    }\n",
       "</style>\n",
       "<table border=\"1\" class=\"dataframe\">\n",
       "  <thead>\n",
       "    <tr style=\"text-align: right;\">\n",
       "      <th></th>\n",
       "      <th>pH</th>\n",
       "      <th>Hardness</th>\n",
       "      <th>Solids</th>\n",
       "      <th>Chloramines</th>\n",
       "      <th>Sulfate</th>\n",
       "      <th>Conductivity</th>\n",
       "      <th>OrganicCarbon</th>\n",
       "      <th>Trihalomethanes</th>\n",
       "      <th>Turbidity</th>\n",
       "      <th>Potability</th>\n",
       "    </tr>\n",
       "    <tr>\n",
       "      <th>id</th>\n",
       "      <th></th>\n",
       "      <th></th>\n",
       "      <th></th>\n",
       "      <th></th>\n",
       "      <th></th>\n",
       "      <th></th>\n",
       "      <th></th>\n",
       "      <th></th>\n",
       "      <th></th>\n",
       "      <th></th>\n",
       "    </tr>\n",
       "  </thead>\n",
       "  <tbody>\n",
       "    <tr>\n",
       "      <th>1</th>\n",
       "      <td>8.316766</td>\n",
       "      <td>214.373394</td>\n",
       "      <td>22018.417441</td>\n",
       "      <td>8.059332</td>\n",
       "      <td>356.886136</td>\n",
       "      <td>363.266516</td>\n",
       "      <td>18.436524</td>\n",
       "      <td>100.341674</td>\n",
       "      <td>4.628771</td>\n",
       "      <td>0</td>\n",
       "    </tr>\n",
       "    <tr>\n",
       "      <th>2</th>\n",
       "      <td>9.092223</td>\n",
       "      <td>181.101509</td>\n",
       "      <td>17978.986339</td>\n",
       "      <td>6.546600</td>\n",
       "      <td>310.135738</td>\n",
       "      <td>398.410813</td>\n",
       "      <td>11.558279</td>\n",
       "      <td>31.997993</td>\n",
       "      <td>4.075075</td>\n",
       "      <td>0</td>\n",
       "    </tr>\n",
       "    <tr>\n",
       "      <th>3</th>\n",
       "      <td>5.584087</td>\n",
       "      <td>188.313324</td>\n",
       "      <td>28748.687739</td>\n",
       "      <td>7.544869</td>\n",
       "      <td>326.678363</td>\n",
       "      <td>280.467916</td>\n",
       "      <td>8.399735</td>\n",
       "      <td>54.917862</td>\n",
       "      <td>2.559708</td>\n",
       "      <td>0</td>\n",
       "    </tr>\n",
       "    <tr>\n",
       "      <th>4</th>\n",
       "      <td>10.223862</td>\n",
       "      <td>248.071735</td>\n",
       "      <td>28749.716544</td>\n",
       "      <td>7.513408</td>\n",
       "      <td>393.663396</td>\n",
       "      <td>283.651634</td>\n",
       "      <td>13.789695</td>\n",
       "      <td>84.603556</td>\n",
       "      <td>2.672989</td>\n",
       "      <td>0</td>\n",
       "    </tr>\n",
       "    <tr>\n",
       "      <th>5</th>\n",
       "      <td>8.635849</td>\n",
       "      <td>203.361523</td>\n",
       "      <td>13672.091764</td>\n",
       "      <td>4.563009</td>\n",
       "      <td>303.309771</td>\n",
       "      <td>474.607645</td>\n",
       "      <td>12.363817</td>\n",
       "      <td>62.798309</td>\n",
       "      <td>4.401425</td>\n",
       "      <td>0</td>\n",
       "    </tr>\n",
       "  </tbody>\n",
       "</table>\n",
       "</div>"
      ],
      "text/plain": [
       "           pH    Hardness        Solids  Chloramines     Sulfate  \\\n",
       "id                                                                 \n",
       "1    8.316766  214.373394  22018.417441     8.059332  356.886136   \n",
       "2    9.092223  181.101509  17978.986339     6.546600  310.135738   \n",
       "3    5.584087  188.313324  28748.687739     7.544869  326.678363   \n",
       "4   10.223862  248.071735  28749.716544     7.513408  393.663396   \n",
       "5    8.635849  203.361523  13672.091764     4.563009  303.309771   \n",
       "\n",
       "    Conductivity  OrganicCarbon  Trihalomethanes  Turbidity  Potability  \n",
       "id                                                                       \n",
       "1     363.266516      18.436524       100.341674   4.628771           0  \n",
       "2     398.410813      11.558279        31.997993   4.075075           0  \n",
       "3     280.467916       8.399735        54.917862   2.559708           0  \n",
       "4     283.651634      13.789695        84.603556   2.672989           0  \n",
       "5     474.607645      12.363817        62.798309   4.401425           0  "
      ]
     },
     "execution_count": 2,
     "metadata": {},
     "output_type": "execute_result"
    }
   ],
   "source": [
    "# Membaca data dan melihat beberapa data pertama\n",
    "df = pd.read_csv('water_potability.csv', index_col=0)\n",
    "df.head()"
   ]
  },
  {
   "cell_type": "code",
   "execution_count": 3,
   "id": "ea4e7e79",
   "metadata": {},
   "outputs": [],
   "source": [
    "def split_data_equal(df):\n",
    "    half_data_len = df.count() // 2\n",
    "    return df[:half_data_len], df[half_data_len:]"
   ]
  },
  {
   "cell_type": "markdown",
   "id": "e3e2e238",
   "metadata": {},
   "source": [
    "### Bagian 1\n",
    "\n",
    "Data kolom Sulfate dibagi 2 sama rata: bagian awal dan bagian akhir kolom. Benarkah rata-rata kedua bagian tersebut sama?"
   ]
  },
  {
   "cell_type": "code",
   "execution_count": 4,
   "id": "2fe144dc",
   "metadata": {},
   "outputs": [],
   "source": [
    "# Mempersiapkan Data\n",
    "p1_df_upper, p1_df_lower = split_data_equal(df['Sulfate'])\n",
    "\n",
    "p1_alpha = 0.05"
   ]
  },
  {
   "cell_type": "code",
   "execution_count": 5,
   "id": "24105e16",
   "metadata": {},
   "outputs": [
    {
     "data": {
      "image/png": "[encoded data removed]",
      "text/plain": [
       "<Figure size 1152x576 with 2 Axes>"
      ]
     },
     "metadata": {
      "needs_background": "light"
     },
     "output_type": "display_data"
    }
   ],
   "source": [
    "# Gambar Boxplot Data\n",
    "fig, (ax_upper, ax_lower) = plt.subplots(1, 2, figsize=(16, 8))\n",
    "ax_upper.set_title(\"Bagian Upper Half\")\n",
    "ax_lower.set_title(\"Bagian Lower Half\")\n",
    "_ = ax_upper.boxplot(p1_df_upper, labels=['Sulfate'])\n",
    "_ = ax_lower.boxplot(p1_df_lower, labels=['Sulfate'])"
   ]
  },
  {
   "cell_type": "markdown",
   "id": "2fca1e71",
   "metadata": {},
   "source": [
    "#### Penentuan Hipotesis\n",
    "\n",
    "Pada pengujian ini, `H0` adalah `miu_1 == miu_2` dan `H1` adalah `miu_1 != miu_2` *(Two-tailed test)*.\n",
    "\n",
    "#### Nilai `alpha`\n",
    "\n",
    "Nilai `alpha` yang digunakan adalah 0.05\n",
    "\n",
    "#### Daerah Kritis"
   ]
  },
  {
   "cell_type": "code",
   "execution_count": 6,
   "id": "bdb310b0",
   "metadata": {},
   "outputs": [
    {
     "name": "stdout",
     "output_type": "stream",
     "text": [
      "Z < -1.9599639845400545 or Z > 1.959963984540054\n"
     ]
    }
   ],
   "source": [
    "# z < -z_{alpha/2} || z > z_{alpha/2}\n",
    "print(f\"Z < {norm.ppf(p1_alpha / 2)} or Z > {norm.ppf(1 - p1_alpha/2)}\")"
   ]
  },
  {
   "cell_type": "markdown",
   "id": "e9090df2",
   "metadata": {},
   "source": [
    "#### Tes Statistik\n",
    "\n",
    "Pengujian menggunakan test statistik untuk menentukan bahwa selisih dari kedua rata-rata data bernilai 0 dan kedua variansi diketahui"
   ]
  },
  {
   "cell_type": "code",
   "execution_count": 7,
   "id": "cbdae88e",
   "metadata": {},
   "outputs": [
    {
     "name": "stdout",
     "output_type": "stream",
     "text": [
      "Detail Data\n",
      "miu_1 = 331.30532950549565\n",
      "miu_2 = 335.11742332488245\n",
      "var_1 = 1708.3966020772502\n",
      "var_2 = 1682.7330644425087\n",
      "cnt_1 = 1005\n",
      "cnt_2 = 1005\n",
      "Uji Statistik\n",
      "Z = -2.0752690696871983\n"
     ]
    }
   ],
   "source": [
    "# Detail Data\n",
    "p1_miu_1 = p1_df_upper.mean()\n",
    "p1_miu_2 = p1_df_lower.mean()\n",
    "p1_var_1 = p1_df_upper.var()\n",
    "p1_var_2 = p1_df_lower.var()\n",
    "p1_cnt_1 = p1_df_upper.count()\n",
    "p1_cnt_2 = p1_df_lower.count()\n",
    "\n",
    "\n",
    "p1_details = [\n",
    "    f\"miu_1 = {p1_miu_1}\",\n",
    "    f\"miu_2 = {p1_miu_2}\",\n",
    "    f\"var_1 = {p1_var_1}\",\n",
    "    f\"var_2 = {p1_var_2}\",\n",
    "    f\"cnt_1 = {p1_cnt_1}\",\n",
    "    f\"cnt_2 = {p1_cnt_2}\",\n",
    "]\n",
    "\n",
    "print(\"Detail Data\")\n",
    "for p1_s in p1_details:\n",
    "    print(p1_s)\n",
    "    \n",
    "print(\"Uji Statistik\")\n",
    "p1_z = (p1_miu_1 - p1_miu_2 - 0) / ((p1_var_1 / p1_cnt_1) + (p1_var_2 / p1_cnt_2)) ** 0.5\n",
    "print(f\"Z = {p1_z}\")"
   ]
  },
  {
   "cell_type": "markdown",
   "id": "89639a05",
   "metadata": {},
   "source": [
    "#### Kesimpulan\n",
    "\n",
    "Karena `Z < -Z_{alpha / 2}`, maka `H0` ditolak dan `H1` diterima sehingga rata-rata data awal dan akhir **berbeda**."
   ]
  },
  {
   "cell_type": "markdown",
   "id": "b9510a9e",
   "metadata": {},
   "source": [
    "### Bagian 2\n",
    "\n",
    "Data kolom OrganicCarbon dibagi 2 sama rata: bagian awal dan bagian akhir kolom. Benarkah rata-rata bagian awal lebih besar dari pada bagian akhir sebesar 0.15?"
   ]
  },
  {
   "cell_type": "code",
   "execution_count": 8,
   "id": "ef3c4ea6",
   "metadata": {},
   "outputs": [],
   "source": [
    "# Mempersiapkan data\n",
    "p2_df_upper, p2_df_lower = split_data_equal(df['OrganicCarbon'])\n",
    "p2_alpha = 0.05"
   ]
  },
  {
   "cell_type": "code",
   "execution_count": 9,
   "id": "9a6fd2e6",
   "metadata": {},
   "outputs": [
    {
     "data": {
      "image/png": "[encoded data removed]",
      "text/plain": [
       "<Figure size 1152x576 with 2 Axes>"
      ]
     },
     "metadata": {
      "needs_background": "light"
     },
     "output_type": "display_data"
    }
   ],
   "source": [
    "# Gambar Boxplot Data\n",
    "fig, (ax_upper, ax_lower) = plt.subplots(1, 2, figsize=(16, 8))\n",
    "ax_upper.set_title(\"Bagian Upper Half\")\n",
    "ax_lower.set_title(\"Bagian Lower Half\")\n",
    "_ = ax_upper.boxplot(p2_df_upper, labels=['OrganicCarbon'])\n",
    "_ = ax_lower.boxplot(p2_df_lower, labels=['OrganicCarbon'])"
   ]
  },
  {
   "cell_type": "markdown",
   "id": "6d4d2cee",
   "metadata": {},
   "source": [
    "#### Penentuan Hipotesis\n",
    "\n",
    "Pada uji ini, `H0` adalah `miu_1 - miu_2 == 0.15` dan `H1` adalah `miu_1 - miu_2 != 0.15` *(Two-tailed test)*.\n",
    "\n",
    "#### Nilai `alpha`\n",
    "\n",
    "Nilai `alpha` yang digunakan adalah 0.05\n",
    "\n",
    "#### Daerah Kritis"
   ]
  },
  {
   "cell_type": "code",
   "execution_count": 10,
   "id": "d908f39f",
   "metadata": {},
   "outputs": [
    {
     "name": "stdout",
     "output_type": "stream",
     "text": [
      "Z < -1.9599639845400545 or Z > 1.959963984540054\n"
     ]
    }
   ],
   "source": [
    "# z < -z_{alpha/2} || z > z_{alpha/2}\n",
    "print(f\"Z < {norm.ppf(p2_alpha / 2)} or Z > {norm.ppf(1 - p2_alpha/2)}\")"
   ]
  },
  {
   "cell_type": "markdown",
   "id": "7c3ab8fc",
   "metadata": {},
   "source": [
    "#### Tes Statistik\n",
    "\n",
    "Pengujian menggunakan test statistik untuk menentukan bahwa rata-rata pertama data bernilai 0.15 lebih besar dari rata-rata data kedua dan kedua variansi diketahui"
   ]
  },
  {
   "cell_type": "code",
   "execution_count": 11,
   "id": "bd8e7c83",
   "metadata": {},
   "outputs": [
    {
     "name": "stdout",
     "output_type": "stream",
     "text": [
      "Detail Data\n",
      "miu_1 = 14.253972723723393\n",
      "miu_2 = 14.461907080372756\n",
      "var_1 = 11.230287224380323\n",
      "var_2 = 10.880581782847479\n",
      "cnt_1 = 1005\n",
      "cnt_2 = 1005\n",
      "Uji Statistik\n",
      "Z = -2.413145517798807\n"
     ]
    }
   ],
   "source": [
    "# Detail Data\n",
    "p2_miu_1 = p2_df_upper.mean()\n",
    "p2_miu_2 = p2_df_lower.mean()\n",
    "p2_var_1 = p2_df_upper.var()\n",
    "p2_var_2 = p2_df_lower.var()\n",
    "p2_cnt_1 = p2_df_upper.count()\n",
    "p2_cnt_2 = p2_df_lower.count()\n",
    "\n",
    "\n",
    "p2_details = [\n",
    "    f\"miu_1 = {p2_miu_1}\",\n",
    "    f\"miu_2 = {p2_miu_2}\",\n",
    "    f\"var_1 = {p2_var_1}\",\n",
    "    f\"var_2 = {p2_var_2}\",\n",
    "    f\"cnt_1 = {p2_cnt_1}\",\n",
    "    f\"cnt_2 = {p2_cnt_2}\",\n",
    "]\n",
    "\n",
    "print(\"Detail Data\")\n",
    "for p2_s in p2_details:\n",
    "    print(p2_s)\n",
    "    \n",
    "print(\"Uji Statistik\")\n",
    "p2_z = (p2_miu_1 - p2_miu_2 - 0.15) / ((p2_var_1 / p2_cnt_1) + (p2_var_2 / p2_cnt_2)) ** 0.5\n",
    "print(f\"Z = {p2_z}\")"
   ]
  },
  {
   "cell_type": "markdown",
   "id": "f64e9256",
   "metadata": {},
   "source": [
    "#### Kesimpulan\n",
    "\n",
    "Karena `Z < -Z_{alpha / 2}`, maka `H0` ditolak dan `H1` diterima sehingga rata-rata data pertama **tidak** lebih besar sebanyak 0.15 dari data kedua."
   ]
  },
  {
   "cell_type": "markdown",
   "id": "803783da",
   "metadata": {},
   "source": [
    "### Bagian 3\n",
    "\n",
    "Rata-rata 100 baris pertama kolom Chloramines sama dengan 100 baris terakhirnya?"
   ]
  },
  {
   "cell_type": "code",
   "execution_count": 12,
   "id": "74a99d4d",
   "metadata": {},
   "outputs": [],
   "source": [
    "# Mempersiapkan data\n",
    "p3_df_upper = df['Chloramines'][:100]\n",
    "p3_df_lower = df['Chloramines'][-100:]\n",
    "p3_alpha = 0.05"
   ]
  },
  {
   "cell_type": "code",
   "execution_count": 13,
   "id": "18b4022d",
   "metadata": {},
   "outputs": [
    {
     "data": {
      "image/png": "[encoded data removed]",
      "text/plain": [
       "<Figure size 1152x576 with 2 Axes>"
      ]
     },
     "metadata": {
      "needs_background": "light"
     },
     "output_type": "display_data"
    }
   ],
   "source": [
    "# Gambar Boxplot Data\n",
    "fig, (ax_upper, ax_lower) = plt.subplots(1, 2, figsize=(16, 8))\n",
    "ax_upper.set_title(\"Bagian Upper Half\")\n",
    "ax_lower.set_title(\"Bagian Lower Half\")\n",
    "_ = ax_upper.boxplot(p3_df_upper, labels=['Chloramines'])\n",
    "_ = ax_lower.boxplot(p3_df_lower, labels=['Chloramines'])"
   ]
  },
  {
   "cell_type": "markdown",
   "id": "2526b884",
   "metadata": {},
   "source": [
    "#### Penentuan Hipotesis\n",
    "\n",
    "Pada uji ini, `H0` adalah `miu_1 - miu_2 == 0` dan `H1` adalah `miu_1 - miu_2 != 0` *(Two-tailed test)*.\n",
    "\n",
    "#### Nilai `alpha`\n",
    "\n",
    "Nilai `alpha` yang digunakan adalah 0.05\n",
    "\n",
    "#### Daerah Kritis"
   ]
  },
  {
   "cell_type": "code",
   "execution_count": 14,
   "id": "bf6ed38e",
   "metadata": {},
   "outputs": [
    {
     "name": "stdout",
     "output_type": "stream",
     "text": [
      "Z < -1.9599639845400545 or Z > 1.959963984540054\n"
     ]
    }
   ],
   "source": [
    "# z < -z_{alpha/2} || z > z_{alpha/2}\n",
    "print(f\"Z < {norm.ppf(p3_alpha / 2)} or Z > {norm.ppf(1 - p3_alpha/2)}\")"
   ]
  },
  {
   "cell_type": "markdown",
   "id": "035817ae",
   "metadata": {},
   "source": [
    "#### Tes Statistik\n",
    "\n",
    "Pengujian menggunakan test statistik untuk menentukan bahwa rata-rata pertama data bernilai sama dengan rata-rata data kedua dan kedua variansi diketahui."
   ]
  },
  {
   "cell_type": "code",
   "execution_count": 15,
   "id": "ecb8a644",
   "metadata": {},
   "outputs": [
    {
     "name": "stdout",
     "output_type": "stream",
     "text": [
      "Detail Data\n",
      "miu_1 = 7.007771140423921\n",
      "miu_2 = 7.147197636249925\n",
      "var_1 = 2.193041986248721\n",
      "var_2 = 1.7077427735538262\n",
      "cnt_1 = 100\n",
      "cnt_2 = 100\n",
      "Uji Statistik\n",
      "Z = -0.7059424842236872\n"
     ]
    }
   ],
   "source": [
    "# Detail Data\n",
    "p3_miu_1 = p3_df_upper.mean()\n",
    "p3_miu_2 = p3_df_lower.mean()\n",
    "p3_var_1 = p3_df_upper.var()\n",
    "p3_var_2 = p3_df_lower.var()\n",
    "p3_cnt_1 = p3_df_upper.count()\n",
    "p3_cnt_2 = p3_df_lower.count()\n",
    "\n",
    "\n",
    "p3_details = [\n",
    "    f\"miu_1 = {p3_miu_1}\",\n",
    "    f\"miu_2 = {p3_miu_2}\",\n",
    "    f\"var_1 = {p3_var_1}\",\n",
    "    f\"var_2 = {p3_var_2}\",\n",
    "    f\"cnt_1 = {p3_cnt_1}\",\n",
    "    f\"cnt_2 = {p3_cnt_2}\",\n",
    "]\n",
    "\n",
    "print(\"Detail Data\")\n",
    "for p3_s in p3_details:\n",
    "    print(p3_s)\n",
    "    \n",
    "print(\"Uji Statistik\")\n",
    "p3_z = (p3_miu_1 - p3_miu_2 - 0) / ((p3_var_1 / p3_cnt_1) + (p3_var_2 / p3_cnt_2)) ** 0.5\n",
    "print(f\"Z = {p3_z}\")"
   ]
  },
  {
   "cell_type": "markdown",
   "id": "5fa174f7",
   "metadata": {},
   "source": [
    "#### Kesimpulan\n",
    "\n",
    "Karena `-Z_{alpha/2} < Z < Z_{alpha / 2}`, maka Hipotesis `H0` \"rata-rata data pertama sama dengan data kedua\" diterima."
   ]
  },
  {
   "cell_type": "markdown",
   "id": "814f671a",
   "metadata": {},
   "source": [
    "### Bagian 4\n",
    "\n",
    "Proporsi nilai bagian awal Turbidity yang lebih dari 4, adalah lebih besar daripada, proporsi nilai yang sama di bagian akhir Turbidity ?\n",
    "\n",
    "##### Interpretasi Soal\n",
    "\n",
    "Bagi nilai Turbidity menjadi dua, apakah proporsi nilai diatas 4 di bagian awal sama dengan proporsi nilai diatas 4 di bagian akhir?"
   ]
  },
  {
   "cell_type": "code",
   "execution_count": 16,
   "id": "e2c32194",
   "metadata": {},
   "outputs": [],
   "source": [
    "# Bagi ke dua yang sama besar\n",
    "p4_df_upper, p4_df_lower = split_data_equal(df['Turbidity'])\n",
    "p4_alpha = 0.05"
   ]
  },
  {
   "cell_type": "code",
   "execution_count": 17,
   "id": "82ae6d13",
   "metadata": {},
   "outputs": [
    {
     "data": {
      "image/png": "[encoded data removed]",
      "text/plain": [
       "<Figure size 1152x576 with 2 Axes>"
      ]
     },
     "metadata": {
      "needs_background": "light"
     },
     "output_type": "display_data"
    }
   ],
   "source": [
    "# Gambar Boxplot Data\n",
    "fig, (ax_upper, ax_lower) = plt.subplots(1, 2, figsize=(16, 8))\n",
    "ax_upper.set_title(\"Bagian Upper Half\")\n",
    "ax_lower.set_title(\"Bagian Lower Half\")\n",
    "_ = ax_upper.boxplot(p4_df_upper, labels=['Turbidity'])\n",
    "_ = ax_lower.boxplot(p4_df_lower, labels=['Turbidity'])"
   ]
  },
  {
   "cell_type": "markdown",
   "id": "a7cfecca",
   "metadata": {},
   "source": [
    "#### Penentuan Hipotesis\n",
    "\n",
    "Pada uji ini, `H0` adalah `p_1 == p_2` dan `H1` adalah `p_1 != p_2` *(Two-tailed test)*.\n",
    "\n",
    "#### Nilai `alpha`\n",
    "\n",
    "Nilai `alpha` yang digunakan adalah 0.05\n",
    "\n",
    "#### Daerah Kritis"
   ]
  },
  {
   "cell_type": "code",
   "execution_count": 18,
   "id": "1ed40e75",
   "metadata": {},
   "outputs": [
    {
     "name": "stdout",
     "output_type": "stream",
     "text": [
      "Z < -1.9599639845400545 or Z > 1.959963984540054\n"
     ]
    }
   ],
   "source": [
    "# z < -z_{alpha/2} || z > z_{alpha/2}\n",
    "print(f\"Z < {norm.ppf(p4_alpha / 2)} or Z > {norm.ppf(1 - p4_alpha/2)}\")"
   ]
  },
  {
   "cell_type": "markdown",
   "id": "7d756795",
   "metadata": {},
   "source": [
    "#### Tes Statistik\n",
    "\n",
    "Pengujian menggunakan test statistik untuk menentukan bahwa proporsi data awal bernilai sama dengan proporsi data kedua."
   ]
  },
  {
   "cell_type": "code",
   "execution_count": 19,
   "id": "bd74f1d2",
   "metadata": {},
   "outputs": [
    {
     "name": "stdout",
     "output_type": "stream",
     "text": [
      "Detail Data\n",
      "p_1   = 0.4835820895522388\n",
      "p_2   = 0.48656716417910445\n",
      "var_1 = 0.618511247092035\n",
      "var_2 = 0.5989470818840628\n",
      "x_1   = 486\n",
      "x_2   = 489\n",
      "n_1   = 1005\n",
      "n_2   = 1005\n",
      "Uji Statistik\n",
      "Z = -0.13388958661778735\n"
     ]
    }
   ],
   "source": [
    "# Detail Data\n",
    "p4_x_1 = p4_df_upper[p4_df_upper > 4].count()\n",
    "p4_x_2 = p4_df_lower[p4_df_lower > 4].count()\n",
    "p4_var_1 = p4_df_upper.var()\n",
    "p4_var_2 = p4_df_lower.var()\n",
    "p4_n_1 = p4_df_upper.count()\n",
    "p4_n_2 = p4_df_lower.count()\n",
    "\n",
    "\n",
    "p4_details = [\n",
    "    f\"p_1   = {p4_x_1 / p4_n_1}\",\n",
    "    f\"p_2   = {p4_x_2 / p4_n_2}\",\n",
    "    f\"var_1 = {p4_var_1}\",\n",
    "    f\"var_2 = {p4_var_2}\",\n",
    "    f\"x_1   = {p4_x_1}\",\n",
    "    f\"x_2   = {p4_x_2}\",\n",
    "    f\"n_1   = {p4_n_1}\",\n",
    "    f\"n_2   = {p4_n_2}\",\n",
    "]\n",
    "\n",
    "print(\"Detail Data\")\n",
    "for p4_s in p4_details:\n",
    "    print(p4_s)\n",
    "    \n",
    "print(\"Uji Statistik\")\n",
    "p4_p = (p4_x_1 + p4_x_2) / (p4_n_1 + p4_n_2)\n",
    "p4_z = (p4_x_1 / p4_n_1 - p4_x_2 / p4_n_2) / (p4_p * (1 - p4_p) * (1/p4_n_1 + 1/p4_n_2)) ** 0.5\n",
    "print(f\"Z = {p4_z}\")"
   ]
  },
  {
   "cell_type": "markdown",
   "id": "f5ad64c9",
   "metadata": {},
   "source": [
    "#### Kesimpulan\n",
    "\n",
    "Karena `-Z_{alpha/2} < Z < Z_{alpha / 2}`, maka Hipotesis `H0` \"proporsi Turbidity diatas 4 dari bagian atas dan bawah sama\" diterima."
   ]
  },
  {
   "cell_type": "markdown",
   "id": "69b3c838",
   "metadata": {},
   "source": [
    "### Bagian 5\n",
    "\n",
    "Bagian awal kolom Sulfate memiliki variansi yang sama dengan bagian akhirnya?"
   ]
  },
  {
   "cell_type": "code",
   "execution_count": 20,
   "id": "9f04832c",
   "metadata": {},
   "outputs": [],
   "source": [
    "# Bagi ke dua yang sama besar\n",
    "p5_df_upper, p5_df_lower = split_data_equal(df['Sulfate'])\n",
    "p5_alpha = 0.05"
   ]
  },
  {
   "cell_type": "code",
   "execution_count": 21,
   "id": "8d0bb101",
   "metadata": {},
   "outputs": [
    {
     "data": {
      "image/png": "[encoded data removed]",
      "text/plain": [
       "<Figure size 1152x576 with 2 Axes>"
      ]
     },
     "metadata": {
      "needs_background": "light"
     },
     "output_type": "display_data"
    }
   ],
   "source": [
    "# Gambar Boxplot Data\n",
    "fig, (ax_upper, ax_lower) = plt.subplots(1, 2, figsize=(16, 8))\n",
    "ax_upper.set_title(\"Bagian Upper Half\")\n",
    "ax_lower.set_title(\"Bagian Lower Half\")\n",
    "_ = ax_upper.boxplot(p5_df_upper, labels=['Sulfate'])\n",
    "_ = ax_lower.boxplot(p5_df_lower, labels=['Sulfate'])"
   ]
  },
  {
   "cell_type": "markdown",
   "id": "72e1ec46",
   "metadata": {},
   "source": [
    "#### Penentuan Hipotesis\n",
    "\n",
    "Pada uji ini, `H0` adalah `var_1 == var_2` dan `H1` adalah `var_1 != var_2` *(Two-tailed test)*.\n",
    "\n",
    "#### Nilai `alpha`\n",
    "\n",
    "Nilai `alpha` yang digunakan adalah 0.05\n",
    "\n",
    "#### Daerah Kritis"
   ]
  },
  {
   "cell_type": "code",
   "execution_count": 22,
   "id": "f7cdd041",
   "metadata": {},
   "outputs": [
    {
     "name": "stdout",
     "output_type": "stream",
     "text": [
      "F < 0.883572344355818 or F > 1.1317692392568777\n"
     ]
    }
   ],
   "source": [
    "# z < -z_{alpha/2} || z > z_{alpha/2}\n",
    "print(f\"F < {f.ppf(p5_alpha / 2, p5_df_upper.count() - 1, p5_df_lower.count() - 1)} or F > {f.ppf(1 - p5_alpha/2, p5_df_upper.count() - 1, p5_df_lower.count() - 1)}\")"
   ]
  },
  {
   "cell_type": "markdown",
   "id": "51dac81f",
   "metadata": {},
   "source": [
    "#### Tes Statistik\n",
    "\n",
    "Pengujian menggunakan test statistik untuk menentukan bahwa variansi kedua data bernilai sama."
   ]
  },
  {
   "cell_type": "code",
   "execution_count": 23,
   "id": "f3b7c1bc",
   "metadata": {},
   "outputs": [
    {
     "data": {
      "text/plain": [
       "0.3452773085573657"
      ]
     },
     "execution_count": 23,
     "metadata": {},
     "output_type": "execute_result"
    }
   ],
   "source": [
    "f.ppf(0.05, 11, 9)"
   ]
  },
  {
   "cell_type": "code",
   "execution_count": 24,
   "id": "ace4638c",
   "metadata": {},
   "outputs": [
    {
     "name": "stdout",
     "output_type": "stream",
     "text": [
      "Detail Data\n",
      "var_1 = 1708.3966020772502\n",
      "var_2 = 1682.7330644425087\n",
      "n_1   = 1005\n",
      "n_2   = 1005\n",
      "Uji Statistik\n",
      "F = 1.0152511043950063\n"
     ]
    }
   ],
   "source": [
    "p5_var_1 = p5_df_upper.var()\n",
    "p5_var_2 = p5_df_lower.var()\n",
    "p5_n_1 = p5_df_upper.count()\n",
    "p5_n_2 = p5_df_upper.count()\n",
    "\n",
    "p5_details = [\n",
    "    f\"var_1 = {p5_var_1}\",\n",
    "    f\"var_2 = {p5_var_2}\",\n",
    "    f\"n_1   = {p5_n_1}\",\n",
    "    f\"n_2   = {p5_n_2}\",\n",
    "]\n",
    "\n",
    "print(\"Detail Data\")\n",
    "for p5_s in p5_details:\n",
    "    print(p5_s)\n",
    "    \n",
    "print(\"Uji Statistik\")\n",
    "p5_f = p5_var_1 / p5_var_2\n",
    "print(f\"F = {p5_f}\")"
   ]
  },
  {
   "cell_type": "markdown",
   "id": "b8255904",
   "metadata": {},
   "source": [
    "#### Kesimpulan\n",
    "\n",
    "Karena `-F_{alpha/2, dk1, dk2} < F < F_{alpha / 2, dk1, dk2}`, maka Hipotesis `H0` \"Variansi data bagian atas dan bawah dari kolom Sulfate sama\" diterima."
   ]
  }
 ],
 "metadata": {
  "kernelspec": {
   "display_name": "Python 3 (ipykernel)",
   "language": "python",
   "name": "python3"
  },
  "language_info": {
   "codemirror_mode": {
    "name": "ipython",
    "version": 3
   },
   "file_extension": ".py",
   "mimetype": "text/x-python",
   "name": "python",
   "nbconvert_exporter": "python",
   "pygments_lexer": "ipython3",
   "version": "3.10.4"
  }
 },
 "nbformat": 4,
 "nbformat_minor": 5
}
